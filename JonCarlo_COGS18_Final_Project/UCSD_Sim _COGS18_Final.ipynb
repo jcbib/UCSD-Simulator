{
 "cells": [
  {
   "cell_type": "markdown",
   "metadata": {},
   "source": [
    "# UCSD Simulator: Choose Your Own Adventure"
   ]
  },
  {
   "cell_type": "markdown",
   "metadata": {},
   "source": [
    "## Project Description"
   ]
  },
  {
   "cell_type": "markdown",
   "metadata": {},
   "source": [
    "This project is a choose your own adventure story that will allow anyone to have the first year UCSD experience, from suffering in classes due to back-to-back midterms all the way up to week 10 to spending money and dining dollars that you don't have.\n",
    "\n",
    "The player of this story will be a new incoming student to UCSD with stats, a class list, major, inventory, and commuter status; all of these attributes will contribute to how the story will play. The player will also have methods that will allow the player to check their inventory as well as check their current stats. \n",
    "\n",
    "The story is run by multiple functions that will determine a lot of the character's attributes as well as facilitate the creation of multiple branches and story paths."
   ]
  },
  {
   "cell_type": "markdown",
   "metadata": {},
   "source": [
    "## Project Code\n"
   ]
  },
  {
   "cell_type": "code",
   "execution_count": 1,
   "metadata": {},
   "outputs": [],
   "source": [
    "from my_module.functions import *"
   ]
  },
  {
   "cell_type": "code",
   "execution_count": 2,
   "metadata": {},
   "outputs": [
    {
     "name": "stdout",
     "output_type": "stream",
     "text": [
      "Congratulations on being admitted to UCSD! What is your name?\n",
      "Jon\n",
      "What major did you sign up for?\n",
      "Critical Gender Studies\n",
      "\n",
      "Welcome to UCSD Jon, Critical Gender Studies major!\n",
      "\n",
      "Just a few guidelines:\n",
      "\n",
      "1. Do not let any of your stats get to zero!\n",
      "\n",
      "2. Your choices matter and you should make valid choices! (Numerical Inputs)\n",
      "\n",
      "3. Start early, start often, and have fun!\n",
      "\n",
      "Now get ready for another year in your life!\n",
      "\n",
      "Getting ready for the first year of college...\n",
      "\n",
      "Getting ready for the first year of college...\n",
      "\n",
      "Getting ready for the first year of college...\n",
      "\n",
      "Raccoons attack you when walking back from your 8PM discussion.\n",
      "\n",
      "You limp back to your apartment and watch as the raccoons glare menacingly at your door\n",
      "Health has decreased by 3!\n",
      "Luck has decreased by 1!\n",
      "\n",
      "Studying for weekly midterms...\n",
      "\n",
      "It's the middle of the week and you can do some things. Here are some things:\n",
      "1. Check inventory\n",
      "2. Check stats\n",
      "3. Check major\n",
      "4. Check courses\n",
      "5. Enroll in classes\n",
      "6. Change major\n",
      "Input: 2\n",
      "Jon\n",
      "HP: 6\n",
      "Hunger: 10\n",
      "Intellect: 6\n",
      "Strength: 6\n",
      "Luck: 2\n",
      "Wealth: 3\n",
      "\n",
      "Do something else?\n",
      "1. Yes\n",
      "2. No\n",
      "Input: 2\n",
      "\n",
      "Studying for weekly midterms...\n",
      "\n",
      "What do you do this weekend?\n",
      "1. Party\n",
      "2. Study\n",
      "3. Drop out\n",
      "Input: 1\n",
      "Health has decreased by 2!\n",
      "Luck has increased by 1!\n",
      "Intellect has decreased by 2!\n",
      "Strength has increased by 2!\n",
      "\n",
      "Looking for parking...\n",
      "\n",
      "You failed something!\n",
      "\n",
      "You feel dumb, but lucky because you weren't the lowest score\n",
      "Health has decreased by 1!\n",
      "Intellect has decreased by 1!\n",
      "Luck has increased by 2!\n",
      "\n",
      "Studying for weekly midterms...\n",
      "\n",
      "It's the middle of the week and you can do some things. Here are some things:\n",
      "1. Check inventory\n",
      "2. Check stats\n",
      "3. Check major\n",
      "4. Check courses\n",
      "5. Enroll in classes\n",
      "6. Change major\n",
      "Input: 2\n",
      "Jon\n",
      "HP: 3\n",
      "Hunger: 12\n",
      "Intellect: 3\n",
      "Strength: 8\n",
      "Luck: 5\n",
      "Wealth: 3\n",
      "\n",
      "Do something else?\n",
      "1. Yes\n",
      "2. No\n",
      "Input: 2\n",
      "\n",
      "Fighting raccoons...\n",
      "\n",
      "What do you do this weekend?\n",
      "1. Party\n",
      "2. Study\n",
      "3. Drop out\n",
      "Input: 3\n",
      "You have successfully dropped out of UCSD. Goodbye.\n"
     ]
    },
    {
     "ename": "SystemExit",
     "evalue": "0",
     "output_type": "error",
     "traceback": [
      "An exception has occurred, use %tb to see the full traceback.\n",
      "\u001b[1;31mSystemExit\u001b[0m\u001b[1;31m:\u001b[0m 0\n"
     ]
    },
    {
     "name": "stderr",
     "output_type": "stream",
     "text": [
      "C:\\Users\\jonbi\\Anaconda3\\lib\\site-packages\\IPython\\core\\interactiveshell.py:3304: UserWarning: To exit: use 'exit', 'quit', or Ctrl-D.\n",
      "  warn(\"To exit: use 'exit', 'quit', or Ctrl-D.\", stacklevel=1)\n"
     ]
    }
   ],
   "source": [
    "student = intro_init()\n",
    "rand_beg_week_event(student)"
   ]
  },
  {
   "cell_type": "code",
   "execution_count": null,
   "metadata": {},
   "outputs": [],
   "source": []
  }
 ],
 "metadata": {
  "kernelspec": {
   "display_name": "Python 3",
   "language": "python",
   "name": "python3"
  },
  "language_info": {
   "codemirror_mode": {
    "name": "ipython",
    "version": 3
   },
   "file_extension": ".py",
   "mimetype": "text/x-python",
   "name": "python",
   "nbconvert_exporter": "python",
   "pygments_lexer": "ipython3",
   "version": "3.7.3"
  }
 },
 "nbformat": 4,
 "nbformat_minor": 2
}
